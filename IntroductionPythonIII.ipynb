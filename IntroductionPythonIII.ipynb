{
  "nbformat": 4,
  "nbformat_minor": 0,
  "metadata": {
    "colab": {
      "name": "IntroductionPythonIII.ipynb",
      "provenance": [],
      "collapsed_sections": [],
      "authorship_tag": "ABX9TyN6fKXTyO37RoODz3A1jw77",
      "include_colab_link": true
    },
    "kernelspec": {
      "name": "python3",
      "display_name": "Python 3"
    }
  },
  "cells": [
    {
      "cell_type": "markdown",
      "metadata": {
        "id": "view-in-github",
        "colab_type": "text"
      },
      "source": [
        "<a href=\"https://colab.research.google.com/github/medrandacode/IntroductionPython3/blob/main/IntroductionPythonIII.ipynb\" target=\"_parent\"><img src=\"https://colab.research.google.com/assets/colab-badge.svg\" alt=\"Open In Colab\"/></a>"
      ]
    },
    {
      "cell_type": "markdown",
      "metadata": {
        "id": "ICZl0S54Nk3Y"
      },
      "source": [
        "# **Python Nivel Principiante Parte 3**"
      ]
    },
    {
      "cell_type": "markdown",
      "metadata": {
        "id": "M_mWaXeiNuL2"
      },
      "source": [
        "## **Tipos de datos**"
      ]
    },
    {
      "cell_type": "markdown",
      "metadata": {
        "id": "Dn61k7GKPSG9"
      },
      "source": [
        "**Mutables e Inmutables**"
      ]
    },
    {
      "cell_type": "markdown",
      "metadata": {
        "id": "pFTRPXuhSc0X"
      },
      "source": [
        "Inmutables: Datos o Objetos que no pueden cambiar."
      ]
    },
    {
      "cell_type": "markdown",
      "metadata": {
        "id": "4hQ_Nt-MTlfa"
      },
      "source": [
        "Números, cadena de texto, tuplas"
      ]
    },
    {
      "cell_type": "code",
      "metadata": {
        "id": "7ihpz7N7RwaA"
      },
      "source": [
        "CadenaEjemplo= 'Hola x'\n",
        "cadenaEjemplo[0]='C'\n",
        "cadenaEjemplo"
      ],
      "execution_count": null,
      "outputs": []
    },
    {
      "cell_type": "markdown",
      "metadata": {
        "id": "hSx-sb_KUOE_"
      },
      "source": [
        "**String str Cadenas de textos**\n"
      ]
    },
    {
      "cell_type": "code",
      "metadata": {
        "id": "IxGwSppWUUfp"
      },
      "source": [
        "dir(str)\n",
        "#help(str.upper)"
      ],
      "execution_count": null,
      "outputs": []
    },
    {
      "cell_type": "code",
      "metadata": {
        "id": "hGF4OX61VRH9",
        "outputId": "1a24dac1-7e17-4467-c716-c8454cf9d8b5",
        "colab": {
          "base_uri": "https://localhost:8080/",
          "height": 35
        }
      },
      "source": [
        "x='MEDRANDACODE'\n",
        "x.lower()"
      ],
      "execution_count": null,
      "outputs": [
        {
          "output_type": "execute_result",
          "data": {
            "application/vnd.google.colaboratory.intrinsic+json": {
              "type": "string"
            },
            "text/plain": [
              "'medrandacode'"
            ]
          },
          "metadata": {
            "tags": []
          },
          "execution_count": 19
        }
      ]
    },
    {
      "cell_type": "markdown",
      "metadata": {
        "id": "tT5f-bjwWDZH"
      },
      "source": [
        "**Tuplas** <br>\n",
        "(25,12,2020,'navidad')"
      ]
    },
    {
      "cell_type": "code",
      "metadata": {
        "id": "6NwaMYBJYqaC",
        "outputId": "7753c6b8-c9ff-47eb-fab0-301893c48f8f",
        "colab": {
          "base_uri": "https://localhost:8080/"
        }
      },
      "source": [
        "a=10\n",
        "b=5\n",
        "c=6\n",
        "d=a,b,c\n",
        "d[0]"
      ],
      "execution_count": null,
      "outputs": [
        {
          "output_type": "execute_result",
          "data": {
            "text/plain": [
              "10"
            ]
          },
          "metadata": {
            "tags": []
          },
          "execution_count": 28
        }
      ]
    },
    {
      "cell_type": "code",
      "metadata": {
        "id": "JzlJxJ5NaYxA",
        "outputId": "b9139f8a-ca26-45c1-e791-a8efbae85947",
        "colab": {
          "base_uri": "https://localhost:8080/"
        }
      },
      "source": [
        "valor=('Hola','mundo')\n",
        "valor"
      ],
      "execution_count": null,
      "outputs": [
        {
          "output_type": "execute_result",
          "data": {
            "text/plain": [
              "('Hola', 'mundo')"
            ]
          },
          "metadata": {
            "tags": []
          },
          "execution_count": 33
        }
      ]
    },
    {
      "cell_type": "code",
      "metadata": {
        "id": "Eetgv6S2bGo7",
        "outputId": "009d279e-f114-448b-ed24-d12549323ce0",
        "colab": {
          "base_uri": "https://localhost:8080/"
        }
      },
      "source": [
        "def devuelvefecha():\n",
        "  return 25,12,2020\n",
        "z=devuelvefecha()\n",
        "z[2]"
      ],
      "execution_count": null,
      "outputs": [
        {
          "output_type": "execute_result",
          "data": {
            "text/plain": [
              "2020"
            ]
          },
          "metadata": {
            "tags": []
          },
          "execution_count": 36
        }
      ]
    },
    {
      "cell_type": "code",
      "metadata": {
        "id": "hAXiqDz9chik",
        "outputId": "6d00cf34-117c-43f2-94e0-268b140bbec0",
        "colab": {
          "base_uri": "https://localhost:8080/"
        }
      },
      "source": [
        "t='Hola Mundo'\n",
        "c=tuple(t)\n",
        "c"
      ],
      "execution_count": null,
      "outputs": [
        {
          "output_type": "execute_result",
          "data": {
            "text/plain": [
              "('H', 'o', 'l', 'a', ' ', 'M', 'u', 'n', 'd', 'o')"
            ]
          },
          "metadata": {
            "tags": []
          },
          "execution_count": 39
        }
      ]
    },
    {
      "cell_type": "code",
      "metadata": {
        "id": "n-s9IJBUc-Wo",
        "outputId": "e838290a-6b16-46d1-82bf-20befc68835c",
        "colab": {
          "base_uri": "https://localhost:8080/"
        }
      },
      "source": [
        "c[8:]"
      ],
      "execution_count": null,
      "outputs": [
        {
          "output_type": "execute_result",
          "data": {
            "text/plain": [
              "('d', 'o')"
            ]
          },
          "metadata": {
            "tags": []
          },
          "execution_count": 43
        }
      ]
    },
    {
      "cell_type": "markdown",
      "metadata": {
        "id": "lFh_fQJc2Q4S"
      },
      "source": [
        "Crea una tupla con los meses del año, pide números al usuario, si el numero esta entre 1 y la longitud máxima de la tupla, muestra el contenido de esa posición sino muestra un mensaje de error.\n",
        "\n",
        "El programa termina cuando el usuario introduce un cero."
      ]
    },
    {
      "cell_type": "code",
      "metadata": {
        "id": "Z-6idyGs2hvN",
        "outputId": "e6ea012f-03a4-4ac7-ab61-c8f2925679f1",
        "colab": {
          "base_uri": "https://localhost:8080/"
        }
      },
      "source": [
        "meses=('Enero','Febrero','Marzo','Abril','Mayo','Junio','Julio', 'Agosto','Septiembre','Octubre','Noviembre','Diciembre')\n",
        "salida=False\n",
        "while not salida:\n",
        "  numero=int(input('Ingrese número, Salir ingrese (0): '))\n",
        "  if numero==0:\n",
        "    salida=True\n",
        "    print('Ejecución terminada')\n",
        "  else:\n",
        "    if numero>=1 and numero<= len(meses):\n",
        "      print(meses[numero-1])\n",
        "    else:\n",
        "      print('Sobrepasa el rango de la tupla Rango: 1 - ', len(meses))"
      ],
      "execution_count": null,
      "outputs": [
        {
          "output_type": "stream",
          "text": [
            "Ingrese número, Salir ingrese (0): 1\n",
            "Enero\n",
            "Ingrese número, Salir ingrese (0): 12\n",
            "Diciembre\n",
            "Ingrese número, Salir ingrese (0): 13\n",
            "Sobrepasa el rango de la tupla Rango: 1 -  12\n",
            "Ingrese número, Salir ingrese (0): 0\n",
            "Ejecución terminada\n"
          ],
          "name": "stdout"
        }
      ]
    },
    {
      "cell_type": "markdown",
      "metadata": {
        "id": "20tXRCXao7qj"
      },
      "source": [
        "**Ejercicio** <br>\n",
        "Crea una tupla con números, pide un numero por teclado e indica cuantas veces se repite."
      ]
    },
    {
      "cell_type": "markdown",
      "metadata": {
        "id": "YLOiIorSpMlP"
      },
      "source": [
        "Mutables: Datos o Objetos que pueden cambiar."
      ]
    },
    {
      "cell_type": "markdown",
      "metadata": {
        "id": "a-ou4EffpVX6"
      },
      "source": [
        "Listas, Diccionarios"
      ]
    },
    {
      "cell_type": "markdown",
      "metadata": {
        "id": "6h8PnsviTDcc"
      },
      "source": [
        "**Lista *list*** "
      ]
    },
    {
      "cell_type": "code",
      "metadata": {
        "id": "VMyUMtlOpUDP"
      },
      "source": [
        "help(list)\n",
        "numero=[] #lista vacia\n",
        "numero2=[1,2,3,4] #lista de números\n",
        "caracteres=['Medranda','Code']#Lista de caracteres \n",
        "variado=[10, 'Messi', 'FC Barcelona']# Lista Variada\n"
      ],
      "execution_count": null,
      "outputs": []
    },
    {
      "cell_type": "code",
      "metadata": {
        "id": "wPoVYk9IrGCx",
        "outputId": "277baaf5-ce1b-467b-9a8b-00525717f45b",
        "colab": {
          "base_uri": "https://localhost:8080/"
        }
      },
      "source": [
        "#Imprimir lista\n",
        "X=['a','e','i',5,6]\n",
        "len(X)#Devuelve la longitud de nuestra lista\n",
        "\n",
        "#help(list) # Indentificar la lista\n",
        "X.append(7)#Agrega valorea\n",
        "X[0]='u'#Cambiar valores\n",
        "X.remove('i')\n",
        "X.insert(5,'Hola')#Inserta valores a nuestra lista \n",
        "X"
      ],
      "execution_count": null,
      "outputs": [
        {
          "output_type": "execute_result",
          "data": {
            "text/plain": [
              "['u', 'e', 5, 6, 7, 'Hola']"
            ]
          },
          "metadata": {
            "tags": []
          },
          "execution_count": 23
        }
      ]
    },
    {
      "cell_type": "code",
      "metadata": {
        "id": "zmsbTSJQzfdG",
        "outputId": "2d27a1b3-a870-4df3-eb62-ce20892f4107",
        "colab": {
          "base_uri": "https://localhost:8080/"
        }
      },
      "source": [
        "lista1=[3,4,5,1]\n",
        "lista2=lista1[:]\n",
        "lista1.sort()#Ordenar la lista\n",
        "lista2"
      ],
      "execution_count": null,
      "outputs": [
        {
          "output_type": "execute_result",
          "data": {
            "text/plain": [
              "[3, 4, 5, 1]"
            ]
          },
          "metadata": {
            "tags": []
          },
          "execution_count": 12
        }
      ]
    },
    {
      "cell_type": "markdown",
      "metadata": {
        "id": "9OE5t9AA0HZe"
      },
      "source": [
        "Ejercicio <br>\n",
        "Dado una lista, hacer un programa que indique si está ordenada o no."
      ]
    },
    {
      "cell_type": "code",
      "metadata": {
        "id": "2HZENseK0P3j",
        "outputId": "ab31c0d3-f7d6-407c-bf0b-1ef6189278dd",
        "colab": {
          "base_uri": "https://localhost:8080/",
          "height": 35
        }
      },
      "source": [
        "def ordenar(listaN):\n",
        "  listaNueva=listaN[:]\n",
        "  listaN.sort()\n",
        "  if listaN== listaNueva:\n",
        "    return 'Lista Ordenada'\n",
        "  else:\n",
        "    return 'Lista No ordenada'\n",
        "ordenar([2,1,3,4,8])"
      ],
      "execution_count": null,
      "outputs": [
        {
          "output_type": "execute_result",
          "data": {
            "application/vnd.google.colaboratory.intrinsic+json": {
              "type": "string"
            },
            "text/plain": [
              "'Lista No ordenada'"
            ]
          },
          "metadata": {
            "tags": []
          },
          "execution_count": 16
        }
      ]
    },
    {
      "cell_type": "markdown",
      "metadata": {
        "id": "wdgBw9NC1jTT"
      },
      "source": [
        "**Diccionarios**\n",
        "\n",
        "{clave:valor}\n",
        "\n"
      ]
    },
    {
      "cell_type": "code",
      "metadata": {
        "id": "_faYcOjg16kY",
        "outputId": "bca4e2c7-0c31-4699-a1e2-4c106f10dfe7",
        "colab": {
          "base_uri": "https://localhost:8080/"
        }
      },
      "source": [
        "usuarios={'nombre':'Alex','apellido':'Medranda','titulo':True}\n",
        "print(usuarios['nombre'])\n",
        "print(usuarios['apellido'])\n",
        "print(usuarios['titulo'])\n"
      ],
      "execution_count": null,
      "outputs": [
        {
          "output_type": "stream",
          "text": [
            "Alex\n",
            "Medranda\n",
            "True\n"
          ],
          "name": "stdout"
        }
      ]
    },
    {
      "cell_type": "code",
      "metadata": {
        "id": "RKCH078d8eQ3",
        "outputId": "82856d30-7e4a-4bda-bb78-ff9d3b3abbee",
        "colab": {
          "base_uri": "https://localhost:8080/"
        }
      },
      "source": [
        "materias={}\n",
        "materias['lunes']=['matemática',3]\n",
        "materias['martes']=[7,8,9]\n",
        "materias['lunes']"
      ],
      "execution_count": null,
      "outputs": [
        {
          "output_type": "execute_result",
          "data": {
            "text/plain": [
              "['matemática', 3]"
            ]
          },
          "metadata": {
            "tags": []
          },
          "execution_count": 54
        }
      ]
    },
    {
      "cell_type": "code",
      "metadata": {
        "id": "emgdsuVj9_Vu",
        "outputId": "b6c371b3-c206-439f-e693-dc4f4047701e",
        "colab": {
          "base_uri": "https://localhost:8080/",
          "height": 35
        }
      },
      "source": [
        "#help(dict)\n",
        "usuarios.get('nombre')"
      ],
      "execution_count": null,
      "outputs": [
        {
          "output_type": "execute_result",
          "data": {
            "application/vnd.google.colaboratory.intrinsic+json": {
              "type": "string"
            },
            "text/plain": [
              "'Alex'"
            ]
          },
          "metadata": {
            "tags": []
          },
          "execution_count": 59
        }
      ]
    },
    {
      "cell_type": "code",
      "metadata": {
        "id": "5jNfVJsj_sOs",
        "outputId": "5b82ee8c-bcb4-4556-eda7-1b626c8f6f68",
        "colab": {
          "base_uri": "https://localhost:8080/"
        }
      },
      "source": [
        "estudiantes=[]\n",
        "\n",
        "salida= False\n",
        "while not salida:\n",
        "  alumno= input('Ingrese Nombre')\n",
        "  apellido= input('Ingrese apellido')\n",
        "  estudiantes.append({'nombre':alumno,'apellido': apellido})\n",
        "  salidax=input('quieres salir inserta(1)')\n",
        "  if salidax=='1':\n",
        "    salida=True\n",
        "estudiantes"
      ],
      "execution_count": null,
      "outputs": [
        {
          "output_type": "stream",
          "text": [
            "Ingrese NombreKenig\n",
            "Ingrese apellidoPico\n",
            "quieres salir inserta(1)0\n",
            "Ingrese NombreAlex\n",
            "Ingrese apellidoMedranda\n",
            "quieres salir inserta(1)0\n",
            "Ingrese NombreDarwin\n",
            "Ingrese apellidoChavez\n",
            "quieres salir inserta(1)1\n"
          ],
          "name": "stdout"
        },
        {
          "output_type": "execute_result",
          "data": {
            "text/plain": [
              "[{'apellido': 'Pico', 'nombre': 'Kenig'},\n",
              " {'apellido': 'Medranda', 'nombre': 'Alex'},\n",
              " {'apellido': 'Chavez', 'nombre': 'Darwin'}]"
            ]
          },
          "metadata": {
            "tags": []
          },
          "execution_count": 73
        }
      ]
    },
    {
      "cell_type": "code",
      "metadata": {
        "id": "QNt7ZQgfD3EH",
        "outputId": "0819a823-7ff6-4f1d-d2c2-49826fed36b9",
        "colab": {
          "base_uri": "https://localhost:8080/"
        }
      },
      "source": [
        "for estudiante in estudiantes:\n",
        "  print(estudiante.get('nombre'))"
      ],
      "execution_count": null,
      "outputs": [
        {
          "output_type": "stream",
          "text": [
            "Kenig\n",
            "Alex\n",
            "Darwin\n"
          ],
          "name": "stdout"
        }
      ]
    },
    {
      "cell_type": "code",
      "metadata": {
        "id": "MbwtNIIwElAt",
        "outputId": "09bcbdaf-8fa4-4fac-b73c-c54a5d193458",
        "colab": {
          "base_uri": "https://localhost:8080/"
        }
      },
      "source": [
        "saludo='Buenos días'\n",
        "if 'o' in saludo:\n",
        "  print('Si esta')\n",
        "#---------------------------\n",
        "for i  in saludo:\n",
        "  print(i)"
      ],
      "execution_count": null,
      "outputs": [
        {
          "output_type": "stream",
          "text": [
            "Si esta\n",
            "B\n",
            "u\n",
            "e\n",
            "n\n",
            "o\n",
            "s\n",
            " \n",
            "d\n",
            "í\n",
            "a\n",
            "s\n"
          ],
          "name": "stdout"
        }
      ]
    },
    {
      "cell_type": "code",
      "metadata": {
        "id": "kPeKgwNLFdHP",
        "outputId": "e0275fed-8fe4-4a4b-f4a0-cd3e95571d08",
        "colab": {
          "base_uri": "https://localhost:8080/"
        }
      },
      "source": [
        "for i in range(2,11,2):\n",
        "  print(i)"
      ],
      "execution_count": null,
      "outputs": [
        {
          "output_type": "stream",
          "text": [
            "2\n",
            "4\n",
            "6\n",
            "8\n",
            "10\n"
          ],
          "name": "stdout"
        }
      ]
    },
    {
      "cell_type": "code",
      "metadata": {
        "id": "3XH0onBjGvHy",
        "outputId": "19c9eede-98dc-4a13-885e-04f508618c05",
        "colab": {
          "base_uri": "https://localhost:8080/"
        }
      },
      "source": [
        "dictx={'user':'md01', 'password':'12554'}\n",
        "for i in dictx.values():\n",
        "  print(i)"
      ],
      "execution_count": null,
      "outputs": [
        {
          "output_type": "stream",
          "text": [
            "md01\n",
            "12554\n"
          ],
          "name": "stdout"
        }
      ]
    },
    {
      "cell_type": "markdown",
      "metadata": {
        "id": "ZGxjsDvFPYL5"
      },
      "source": [
        "**Ejercicio** <br>\n",
        "Dada una lista de cadenas, pide una cadena por teclado e indica si está en la lista, indica cuantas veces aparece en la lista, para salir coloca cualquier número."
      ]
    },
    {
      "cell_type": "code",
      "metadata": {
        "id": "H5TQbcGtPQvq",
        "outputId": "49d84a35-db38-497e-ad5d-0a7d6faa69db",
        "colab": {
          "base_uri": "https://localhost:8080/"
        }
      },
      "source": [
        "def cadena(lista):\n",
        "  while True:\n",
        "    valor=input('Ingrese cadena para comparar o un número para salir: ')\n",
        "    if valor.isnumeric():\n",
        "      break\n",
        "    elif valor in lista:\n",
        "      print('Si esta en la lista')\n",
        "    else:\n",
        "      print('No existe la cadena')\n",
        "    print(lista.count(valor))\n",
        "\n",
        "\n",
        "listaStr=['Di', 'buen', 'dia', 'a', 'papa',\"hola\",\"papa\",\"buen\",\"dia\"]\t\n",
        "cadena(listaStr)"
      ],
      "execution_count": null,
      "outputs": [
        {
          "output_type": "stream",
          "text": [
            "Ingrese cadena para comparar o un número para salir: medrandacod\n",
            "No existe la cadena\n",
            "0\n",
            "Ingrese cadena para comparar o un número para salir: dia\n",
            "Si esta en la lista\n",
            "2\n",
            "Ingrese cadena para comparar o un número para salir: 5\n"
          ],
          "name": "stdout"
        }
      ]
    },
    {
      "cell_type": "markdown",
      "metadata": {
        "id": "w2kk_guHR9cF"
      },
      "source": [
        "**Ahorcado**\n"
      ]
    }
  ]
}